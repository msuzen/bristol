{
 "cells": [
  {
   "cell_type": "markdown",
   "id": "challenging-smoke",
   "metadata": {},
   "source": [
    "# Empirical deviations of semicircle law in mixed-matrix ensembles\n",
    "\n",
    "(c) 2021 Mehmet Süzen\n",
    "\n",
    "This is a supplementary material to the paper with the same title. \n",
    "\n",
    "Reproduce the results of generating mixed Gaussian ensembles and \n",
    "associated spectral analysis.\n",
    "\n",
    "See [Full Article](http://dx.doi.org/10.13140/RG.2.2.12015.97443) \n"
   ]
  },
  {
   "cell_type": "code",
   "execution_count": null,
   "id": "sapphire-mixture",
   "metadata": {},
   "outputs": [],
   "source": [
    "#\n",
    "# imports and versions\n",
    "#\n",
    "import sys\n",
    "import numpy as np\n",
    "import matplotlib\n",
    "from matplotlib import pyplot as plt\n",
    "\n",
    "np.__version__, matplotlib.__version__, sys.version\n"
   ]
  },
  {
   "cell_type": "markdown",
   "id": "infectious-neighbor",
   "metadata": {},
   "source": [
    "## Core Methods\n",
    "\n",
    "* `get_goe` : GOE drawn single matrix.\n",
    "* `get_goe_eigens` : GOE eigenvalues given ensemble size.\n",
    "* `list2plist` : Convert list to a Cyclic up to higher length list. recall periodic boundary conditions. \n",
    "* `get_goe_eigens_periodic` : Generate eigenvalues with PBC GOE.\n",
    "* `get_goe_eigens_mixed` : Generate eigenvalues with PBC GOE with mixture.\n",
    "* `spectral_staircase` : Get density-of-states, not needed, retained for reference."
   ]
  },
  {
   "cell_type": "markdown",
   "id": "eleven-story",
   "metadata": {},
   "source": [
    "## Generating Gaussian Orthogonal Ensemble (GOE) \n",
    "\n",
    "$A = \\mathcal{N}(0, 1)$\n",
    "$GOE(n) = \\frac{1}{2}(A + A^{T})$.\n",
    "\n",
    "$diag(G) = \\mathcal{N}(0, 1)$.\n",
    "\n",
    "$offdiag(G) = \\mathcal{N}(0,1/2)$ # symmetric.\n"
   ]
  },
  {
   "cell_type": "code",
   "execution_count": null,
   "id": "smoking-desperate",
   "metadata": {},
   "outputs": [],
   "source": [
    "def get_goe(order: int) -> np.array:\n",
    "    \"\"\" Get GOE given order. \"\"\"\n",
    "    A = np.zeros(order*order).reshape(order, order)\n",
    "    tril_ix = np.tril_indices(order, k=-1)\n",
    "    triu_ix = np.triu_indices(order, k=1)\n",
    "    diag_ix = np.diag_indices(order)\n",
    "    off_diagonal = np.random.normal(loc=0, scale=0.5, size=tril_ix[0].shape[0])\n",
    "    A[tril_ix] = off_diagonal\n",
    "    A[triu_ix] = off_diagonal\n",
    "    A[diag_ix] = np.random.normal(loc=0, scale=1, size=diag_ix[0].shape[0])\n",
    "    return 0.50*(A+A.transpose()) # if not here, eigenvalues will be complex.\n",
    "\n",
    "def get_goe_eigens(n_ensemble:int, order:int):\n",
    "    \"\"\" Generate eigenvalues of GOE ensemble give ensemble size and order. \"\"\"\n",
    "    _eigens = np.empty(0)\n",
    "    for _ in np.arange(n_ensemble):\n",
    "        Goe = get_goe(order)\n",
    "        _eigens = np.append(_eigens, np.linalg.eigvals(Goe))\n",
    "    return np.real(_eigens)"
   ]
  },
  {
   "cell_type": "code",
   "execution_count": null,
   "id": "overhead-pound",
   "metadata": {},
   "outputs": [],
   "source": [
    "%%time\n",
    "# Unit-test\n",
    "order = 1000\n",
    "n_ensemble = 50\n",
    "eigens = get_goe_eigens(n_ensemble, order)\n",
    "_ = plt.hist(eigens, bins='auto') # semi-circle law"
   ]
  },
  {
   "cell_type": "markdown",
   "id": "molecular-milton",
   "metadata": {},
   "source": [
    "## Generating Mixed GOE\n",
    "\n",
    "Given ensemble size and N, produce a mixed ensemble as a list."
   ]
  },
  {
   "cell_type": "code",
   "execution_count": null,
   "id": "behavioral-workstation",
   "metadata": {},
   "outputs": [],
   "source": [
    "#\n",
    "# For periodic eigenvalues\n",
    "# Recall: https://nbviewer.jupyter.org/urls/arxiv.org/src/1911.07831v1/anc/periodic_spectral_ergodicity_dnn.ipynb\n",
    " \n",
    "from itertools import cycle\n",
    "\n",
    "\n",
    "def list2plist(lst, upper_bound):\n",
    "    \"\"\"\n",
    "    \n",
    "    Given list lst ans upper_bound.\n",
    "    Return period_lst, cycle. \n",
    "    \n",
    "    \"\"\"\n",
    "    pool = cycle(lst)\n",
    "    c = 1\n",
    "    lst_period = []\n",
    "    for item in pool:\n",
    "        c = c + 1\n",
    "        lst_period.append(item)\n",
    "        if c > upper_bound:\n",
    "            break\n",
    "    return lst_period\n",
    "\n",
    "def get_goe_eigens_periodic(n_ensemble:int, order:int, N_max:int):\n",
    "    \"\"\" Generate eigenvalues of GOE ensemble give ensemble size and order with\n",
    "        periodic adjustment. \"\"\"\n",
    "    eigens = np.empty(0)\n",
    "    for _ in np.arange(n_ensemble):\n",
    "        Goe = get_goe(order)\n",
    "        eigen_ = list2plist(list(np.linalg.eigvals(Goe)), N_max)\n",
    "        eigens = np.append(eigens, eigen_)\n",
    "    return eigens"
   ]
  },
  {
   "cell_type": "code",
   "execution_count": null,
   "id": "precious-cleaner",
   "metadata": {},
   "outputs": [],
   "source": [
    "N = 400  # maximum matrix size ( Bernouilli trials )\n",
    "p = 0.7  # mixing coefficient ( Probability of success )\n",
    "M = 1  # ensemble size \n",
    "\n",
    "def get_goe_eigens_mixed(N, p, M):\n",
    "    \"\"\" \n",
    "    Get eigenvalues of a mixed GOE: list of eigenvalues, count check \n",
    "     N # maximum matrix size ( Bernouilli trials )\n",
    "     p # mixing coefficient ( Probability of success )\n",
    "     M # ensemble size \n",
    "    \"\"\"\n",
    "    # number of success over the n trials\n",
    "    counts_matrix, sizes_matrix = np.histogram(np.random.binomial(N, p, M)) \n",
    "    # means how many to generate on which order\n",
    "    order_count_mapping = [(matrix_order, count_matrix) for matrix_order,count_matrix \n",
    "                           in zip(np.int64(np.round(sizes_matrix)), counts_matrix)]\n",
    "    mixed_ensemble_eigens = np.empty(0)\n",
    "    size_check = 0\n",
    "    for order, count in order_count_mapping:\n",
    "        if count > 0:\n",
    "            eigens = get_goe_eigens_periodic(count, order, N)\n",
    "            # with periodic boundary: maximum size of N\n",
    "            mixed_ensemble_eigens = np.append(mixed_ensemble_eigens, eigens)\n",
    "        size_check = size_check + order*count\n",
    "    return mixed_ensemble_eigens, size_check"
   ]
  },
  {
   "cell_type": "code",
   "execution_count": null,
   "id": "czech-governor",
   "metadata": {},
   "outputs": [],
   "source": [
    "counts_matrix, sizes_matrix = np.histogram(np.random.binomial(N, p, M)) "
   ]
  },
  {
   "cell_type": "code",
   "execution_count": null,
   "id": "front-requirement",
   "metadata": {},
   "outputs": [],
   "source": [
    "counts_matrix, sizes_matrix"
   ]
  },
  {
   "cell_type": "code",
   "execution_count": null,
   "id": "noted-yugoslavia",
   "metadata": {},
   "outputs": [],
   "source": [
    "mixed_ensemble_eigens, size_check = get_goe_eigens_mixed(N, p, M)"
   ]
  },
  {
   "cell_type": "code",
   "execution_count": null,
   "id": "related-junior",
   "metadata": {},
   "outputs": [],
   "source": [
    "size_check, len(mixed_ensemble_eigens)"
   ]
  },
  {
   "cell_type": "code",
   "execution_count": null,
   "id": "nuclear-latex",
   "metadata": {},
   "outputs": [],
   "source": [
    "len(mixed_ensemble_eigens), size_check"
   ]
  },
  {
   "cell_type": "code",
   "execution_count": null,
   "id": "silent-charm",
   "metadata": {},
   "outputs": [],
   "source": [
    "_ = plt.hist(mixed_ensemble_eigens, bins='auto') # semi-circle law"
   ]
  },
  {
   "cell_type": "markdown",
   "id": "average-highlight",
   "metadata": {},
   "source": [
    "## Spectral Unfolding   nearest-level-spacing (GOE): \n",
    "**we don't need this as eigenvalue drawn from an ensemble not a single matrix**\n",
    "\n",
    "**retained for reference**\n",
    "\n",
    "The unfolding procedure is summarized as follows.\n",
    "\n",
    "1. Compute eigenvalues. $E_{i}$. (coming from ensemble_eigens either normal or mixed and \n",
    "   collect all as a single eigenvalue set)\n",
    "   `get_goe_eigens_mixed` or `get_goe_eigens` \n",
    "2. Compute `spectral staircase` $N(E_{i})$ (density of states). This will be already \n",
    "   unfolded/trend removed as we used, multiple matrices.\n",
    "   \n",
    "3. Detrend $N(E_{i})$ with LOWESS, remove noise component and get \n",
    "   $\\epsilon_{i} = n(E_{i})$.\n",
    "   At this point this is an unfolded spectra.   \n",
    "4. Set Equidistance $x$ on spectra (the difference scale).\n",
    "5. Cheoen's paper definition of `nearest-level-spacing`: \n",
    "   Get pairs $(\\epsilon_{j+1}, \\epsilon_{j})$ :\n",
    "   Count the pairs lie in a given spacing and divide \n",
    "   with the number of all pairs.mixed_ensemble_eigens"
   ]
  },
  {
   "cell_type": "code",
   "execution_count": null,
   "id": "exclusive-rental",
   "metadata": {},
   "outputs": [],
   "source": [
    "def spectral_staircase(eigens, number_bin):\n",
    "    \"\"\"  Get spectral staircase (density of states) as x, y : min/max as range. \"\"\"\n",
    "    max_ = np.round(np.max(eigens), 0) \n",
    "    min_ = np.round(np.min(eigens), 0) \n",
    "    stairs_ = np.linspace(min_, max_, number_bin)\n",
    "    dos = [] # density of states\n",
    "    total_ = len(eigens)\n",
    "    for stair_ in stairs_:\n",
    "        dos_stair = len([is_smaller for is_smaller in mixed_ensemble_eigens <= stair_\n",
    "                    if is_smaller == True])/total_\n",
    "        dos.append(dos_stair)\n",
    "    return stairs_, dos"
   ]
  },
  {
   "cell_type": "code",
   "execution_count": null,
   "id": "tender-marble",
   "metadata": {},
   "outputs": [],
   "source": [
    "stairs_, dos = spectral_staircase(mixed_ensemble_eigens, 100)"
   ]
  },
  {
   "cell_type": "code",
   "execution_count": null,
   "id": "sacred-medium",
   "metadata": {},
   "outputs": [],
   "source": [
    "plt.plot(stairs_, dos)"
   ]
  },
  {
   "cell_type": "code",
   "execution_count": null,
   "id": "focal-charger",
   "metadata": {},
   "outputs": [],
   "source": [
    "# Level spacing is the number pair differences falling into stairs_"
   ]
  },
  {
   "cell_type": "code",
   "execution_count": null,
   "id": "invalid-brighton",
   "metadata": {},
   "outputs": [],
   "source": [
    "eigens = mixed_ensemble_eigens"
   ]
  },
  {
   "cell_type": "code",
   "execution_count": null,
   "id": "powered-marks",
   "metadata": {},
   "outputs": [],
   "source": [
    "sorted_eigens = np.sort(eigens)\n",
    "sorted_eigens_diffs = np.diff(sorted_eigens)"
   ]
  },
  {
   "cell_type": "code",
   "execution_count": null,
   "id": "failing-milton",
   "metadata": {},
   "outputs": [],
   "source": [
    "_ = plt.hist(sorted_eigens_diffs, bins='auto') # semi-circle law"
   ]
  },
  {
   "cell_type": "code",
   "execution_count": null,
   "id": "loved-charter",
   "metadata": {},
   "outputs": [],
   "source": [
    "N = 100\n",
    "M = 20\n",
    "p = 0.75\n",
    "mixed_ensemble_eigens, size_check = get_goe_eigens_mixed(N, p, M)"
   ]
  },
  {
   "cell_type": "code",
   "execution_count": null,
   "id": "under-future",
   "metadata": {},
   "outputs": [],
   "source": [
    "eigens = mixed_ensemble_eigens\n",
    "sorted_eigens = np.sort(eigens)\n",
    "sorted_eigens_diffs = np.diff(sorted_eigens)\n",
    "_ = plt.hist(sorted_eigens_diffs, bins='auto') # semi-circle law"
   ]
  },
  {
   "cell_type": "code",
   "execution_count": null,
   "id": "lyric-knowing",
   "metadata": {},
   "outputs": [],
   "source": [
    "y, x = np.histogram(sorted_eigens_diffs, density=False)\n",
    "y = y/np.sum(y)"
   ]
  },
  {
   "cell_type": "code",
   "execution_count": null,
   "id": "false-stuff",
   "metadata": {},
   "outputs": [],
   "source": []
  },
  {
   "cell_type": "code",
   "execution_count": null,
   "id": "foreign-track",
   "metadata": {},
   "outputs": [],
   "source": [
    "plt.plot(x[:-1], y)"
   ]
  },
  {
   "cell_type": "markdown",
   "id": "varied-algebra",
   "metadata": {},
   "source": [
    "## Eigenvalues generation for comparing GOE and mixed GOE\n",
    "\n",
    "Generate data for semi-circle laws and nearest-neighbour spacing for GOE and mixed-GOE\n",
    "\n",
    "* Matrix sizes N= 400, 1000.\n",
    "* M = 100 (Fixed ensemble size, number of draws from an ensemble).\n",
    "* Mixing coefficients p= 0.70, 0.80, 0.95\n",
    "\n",
    "Data store:  list of dictionaries: 'N', 'p', 'eigens', 'ensemble' (GOE or mGOE)."
   ]
  },
  {
   "cell_type": "code",
   "execution_count": null,
   "id": "perceived-survivor",
   "metadata": {},
   "outputs": [],
   "source": [
    "%%time\n",
    "data_mixed =[]\n",
    "N = 400\n",
    "p = 0.7\n",
    "M = 100\n",
    "ensemble = 'mGOE'\n",
    "eigens, _ = get_goe_eigens_mixed(N, p, M)\n",
    "data_mixed.append({'N':N, 'p':p,'eigens':eigens, 'ensemble':ensemble})\n",
    "p = 0.8\n",
    "eigens, _ = get_goe_eigens_mixed(N, p, M)\n",
    "data_mixed.append({'N':N, 'p':p,'eigens':eigens, 'ensemble':ensemble})\n",
    "p = 0.95\n",
    "eigens, _ = get_goe_eigens_mixed(N, p, M)\n",
    "data_mixed.append({'N':N, 'p':p,'eigens':eigens, 'ensemble':ensemble})"
   ]
  },
  {
   "cell_type": "code",
   "execution_count": null,
   "id": "traditional-debate",
   "metadata": {},
   "outputs": [],
   "source": [
    "%%time\n",
    "N = 1000\n",
    "p = 0.7\n",
    "M = 100\n",
    "ensemble = 'mGOE'\n",
    "eigens, _ = get_goe_eigens_mixed(N, p, M)\n",
    "data_mixed.append({'N':N, 'p':p,'eigens':eigens, 'ensemble':ensemble})\n",
    "p = 0.8\n",
    "eigens, _ = get_goe_eigens_mixed(N, p, M)\n",
    "data_mixed.append({'N':N, 'p':p,'eigens':eigens, 'ensemble':ensemble})\n",
    "p = 0.95\n",
    "eigens, _ = get_goe_eigens_mixed(N, p, M)\n",
    "data_mixed.append({'N':N, 'p':p,'eigens':eigens, 'ensemble':ensemble})"
   ]
  },
  {
   "cell_type": "code",
   "execution_count": null,
   "id": "caring-agriculture",
   "metadata": {},
   "outputs": [],
   "source": [
    "%%time\n",
    "N = 400\n",
    "M = 100\n",
    "ensemble = 'GOE'\n",
    "eigens = get_goe_eigens(M, N)\n",
    "data_mixed.append({'N':N, 'p': np.nan,'eigens':eigens, 'ensemble':ensemble})\n",
    "N = 1000\n",
    "eigens = get_goe_eigens(M, N)\n",
    "data_mixed.append({'N':N, 'p': np.nan,'eigens':eigens, 'ensemble':ensemble})"
   ]
  },
  {
   "cell_type": "markdown",
   "id": "mysterious-standing",
   "metadata": {},
   "source": [
    "## Results Semi-circle law\n",
    "\n",
    "*  2 plots of Semi-circles for N=400 and N=1000 (each GOE and mGOE with different p)\n",
    "*  2 plots of nearest neigbour spacing for N=400 and N=1000 (each GOE and mGOE with different p)"
   ]
  },
  {
   "cell_type": "code",
   "execution_count": null,
   "id": "accompanied-fusion",
   "metadata": {},
   "outputs": [],
   "source": [
    "# N = 400\n",
    "# data_mixed[0], data_mixed[1], data_mixed[2], data_mixed[6]\n",
    "# N = 1000\n",
    "# data_mixed[3], data_mixed[4], data_mixed[5], data_mixed[7]"
   ]
  },
  {
   "cell_type": "code",
   "execution_count": null,
   "id": "above-recipient",
   "metadata": {},
   "outputs": [],
   "source": [
    "y0, x0 = np.histogram(data_mixed[0]['eigens'], bins='auto', density=False)\n",
    "y0 = y0/np.sum(y0)\n",
    "\n",
    "y1, x1 = np.histogram(data_mixed[1]['eigens'], bins='auto', density=False)\n",
    "y1 = y1/np.sum(y1)\n",
    "\n",
    "y2, x2 = np.histogram(data_mixed[2]['eigens'], bins='auto', density=False)\n",
    "y2 = y2/np.sum(y2)\n",
    "\n",
    "y3, x3 = np.histogram(data_mixed[6]['eigens'], bins='auto', density=False)\n",
    "y3 = y3/np.sum(y3)"
   ]
  },
  {
   "cell_type": "code",
   "execution_count": null,
   "id": "victorian-council",
   "metadata": {},
   "outputs": [],
   "source": [
    "font = {\"family\": \"normal\", \"weight\": \"bold\", \"size\": 14}\n",
    "\n",
    "plt.rc(\"font\", **font)\n",
    "\n",
    "plt.plot(x0[:-1], y0, \"--\", label=\"mGOE $\\mu$=0.70 \")\n",
    "plt.plot(x1[:-1], y1, \"-*\", label=\"mGOE $\\mu$=0.80 \")\n",
    "plt.plot(x2[:-1], y2, \"-\", label=\"mGOE $\\mu$=0.95 \")\n",
    "plt.plot(x3[:-1], y3, \"-.\", label=\"GOE \")\n",
    "plt.ylim([0, 0.09])\n",
    "plt.legend(loc=\"upper left\")\n",
    "plt.xlabel(\"Eigenvalues\", **font)\n",
    "plt.ylabel(\"Density\", **font)\n",
    "plt.title(\"Semi-circle law  N=400 \", **font)\n",
    "plt.savefig(\"../semicircle400.eps\", format=\"eps\", dpi=1000, bbox_inches=\"tight\")\n",
    "plt.draw()\n",
    "plt.show()"
   ]
  },
  {
   "cell_type": "code",
   "execution_count": null,
   "id": "conservative-branch",
   "metadata": {},
   "outputs": [],
   "source": [
    "y0, x0 = np.histogram(data_mixed[3]['eigens'], bins='auto', density=False)\n",
    "y0 = y0/np.sum(y0)\n",
    "\n",
    "y1, x1 = np.histogram(data_mixed[4]['eigens'], bins='auto', density=False)\n",
    "y1 = y1/np.sum(y1)\n",
    "\n",
    "y2, x2 = np.histogram(data_mixed[5]['eigens'], bins='auto', density=False)\n",
    "y2 = y2/np.sum(y2)\n",
    "\n",
    "y3, x3 = np.histogram(data_mixed[7]['eigens'], bins='auto', density=False)\n",
    "y3 = y3/np.sum(y3)"
   ]
  },
  {
   "cell_type": "code",
   "execution_count": null,
   "id": "sunrise-annotation",
   "metadata": {},
   "outputs": [],
   "source": [
    "font = {\"family\": \"normal\", \"weight\": \"bold\", \"size\": 14}\n",
    "\n",
    "from matplotlib import pyplot as plt\n",
    "\n",
    "plt.rc(\"font\", **font)\n",
    "plt.plot(x0[:-1], y0, \"--\", label=\"mGOE $\\mu$=0.70 \")\n",
    "plt.plot(x1[:-1], y1, \"-*\", label=\"mGOE $\\mu$=0.80 \")\n",
    "plt.plot(x2[:-1], y2, \"-\", label=\"mGOE $\\mu$=0.95 \")\n",
    "plt.plot(x3[:-1], y3, \"-.\", label=\"GOE \")\n",
    "plt.ylim([0, 0.08])\n",
    "plt.legend(loc=\"upper center\")\n",
    "plt.xlabel(\"Eigenvalues\", **font)\n",
    "plt.ylabel(\"Density\", **font)\n",
    "plt.title(\"Semi-circle law  N=1000 \", **font)\n",
    "plt.savefig(\"../semicircle1000.eps\", format=\"eps\", dpi=1000, bbox_inches=\"tight\")\n",
    "plt.draw()\n",
    "plt.show()\n"
   ]
  },
  {
   "cell_type": "markdown",
   "id": "pending-breathing",
   "metadata": {},
   "source": [
    "## Spacing (spectral spacing single )"
   ]
  },
  {
   "cell_type": "code",
   "execution_count": null,
   "id": "indie-romance",
   "metadata": {},
   "outputs": [],
   "source": [
    "%%time\n",
    "data_mixed =[]\n",
    "N = 1000\n",
    "p = 0.7\n",
    "M = 1\n",
    "ensemble = 'mGOE'\n",
    "eigens, _ = get_goe_eigens_mixed(N, p, M)\n",
    "data_mixed.append({'N':N, 'p':p,'eigens':eigens, 'ensemble':ensemble})\n",
    "p = 0.8\n",
    "eigens, _ = get_goe_eigens_mixed(N, p, M)\n",
    "data_mixed.append({'N':N, 'p':p,'eigens':eigens, 'ensemble':ensemble})\n",
    "p = 0.95\n",
    "eigens, _ = get_goe_eigens_mixed(N, p, M)\n",
    "data_mixed.append({'N':N, 'p':p,'eigens':eigens, 'ensemble':ensemble})\n",
    "N = 1000\n",
    "eigens = get_goe_eigens(M, N)\n",
    "data_mixed.append({'N':N, 'p': np.nan,'eigens':eigens, 'ensemble':ensemble})"
   ]
  },
  {
   "cell_type": "code",
   "execution_count": null,
   "id": "based-discovery",
   "metadata": {},
   "outputs": [],
   "source": [
    "sorted_eigens = np.sort((data_mixed[0]['eigens']))\n",
    "sorted_eigens_diffs = np.diff(sorted_eigens)\n",
    "y0, x0 = np.histogram(sorted_eigens_diffs, bins='auto', density=False)\n",
    "y0 = y0/np.sum(y0)\n",
    "\n",
    "sorted_eigens = np.sort((data_mixed[1]['eigens']))\n",
    "sorted_eigens_diffs = np.diff(sorted_eigens)\n",
    "y1, x1 = np.histogram(sorted_eigens_diffs, bins='auto', density=False)\n",
    "y1 = y1/np.sum(y1)\n",
    "\n",
    "sorted_eigens = np.sort((data_mixed[2]['eigens']))\n",
    "sorted_eigens_diffs = np.diff(sorted_eigens)\n",
    "y2, x2 = np.histogram(sorted_eigens_diffs, bins='auto', density=False)\n",
    "y2 = y2/np.sum(y2)\n",
    "\n",
    "sorted_eigens = np.sort((data_mixed[3]['eigens']))\n",
    "sorted_eigens_diffs = np.diff(sorted_eigens)\n",
    "y3, x3 = np.histogram(sorted_eigens_diffs, bins='auto', density=False)\n",
    "y3 = y3/np.sum(y3)"
   ]
  },
  {
   "cell_type": "code",
   "execution_count": null,
   "id": "chronic-factor",
   "metadata": {},
   "outputs": [],
   "source": [
    "font = {\"family\": \"normal\", \"weight\": \"bold\", \"size\": 14}\n",
    "\n",
    "from matplotlib import pyplot as plt\n",
    "\n",
    "plt.rc(\"font\", **font)\n",
    "\n",
    "plt.plot(x0[:-1], y0, \"--\", label=\"mGOE $\\mu$=0.70 \")\n",
    "plt.plot(x1[:-1], y1, \"-*\", label=\"mGOE $\\mu$=0.80 \")\n",
    "plt.plot(x2[:-1], y2, \"-\", label=\"mGOE $\\mu$=0.95 \")\n",
    "plt.plot(x3[:-1], y3, \"-.\", label=\"GOE \")\n",
    "plt.xlim([0, 0.2])\n",
    "plt.ylim([0, 0.2])\n",
    "plt.legend(loc=\"upper center\")\n",
    "plt.xlabel(\"Eigenvalue Spacing\", **font)\n",
    "plt.ylabel(\"Density\", **font)\n",
    "plt.title(\"Nearest-neighbour spacing N=1000 \", **font)\n",
    "plt.savefig(\"../neighbour1000.eps\", format=\"eps\", dpi=1000, bbox_inches=\"tight\")\n",
    "plt.draw()\n",
    "plt.show()"
   ]
  }
 ],
 "metadata": {
  "kernelspec": {
   "display_name": "Python 3",
   "language": "python",
   "name": "python3"
  },
  "language_info": {
   "codemirror_mode": {
    "name": "ipython",
    "version": 3
   },
   "file_extension": ".py",
   "mimetype": "text/x-python",
   "name": "python",
   "nbconvert_exporter": "python",
   "pygments_lexer": "ipython3",
   "version": "3.7.3"
  }
 },
 "nbformat": 4,
 "nbformat_minor": 5
}
